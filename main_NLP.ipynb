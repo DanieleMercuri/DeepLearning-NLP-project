{
  "cells": [
    {
      "cell_type": "code",
      "execution_count": 83,
      "metadata": {
        "colab": {
          "base_uri": "https://localhost:8080/"
        },
        "id": "ZD4BoDHErkOX",
        "outputId": "a3681e7b-f5a6-424f-eb24-a0a5f0711262"
      },
      "outputs": [
        {
          "name": "stdout",
          "output_type": "stream",
          "text": [
            "Done\n"
          ]
        }
      ],
      "source": [
        "a = !pip install simpletransformers\n",
        "print('Done')"
      ]
    },
    {
      "cell_type": "code",
      "execution_count": 1,
      "metadata": {
        "id": "uHXWjJ1Nqj6H"
      },
      "outputs": [],
      "source": [
        "from sklearn.metrics.pairwise import cosine_similarity\n",
        "import numpy as np \n",
        "from google.colab import drive\n",
        "import re\n",
        "from sklearn.model_selection import train_test_split\n",
        "from simpletransformers.language_representation import RepresentationModel\n",
        "from keras.models import Sequential\n",
        "from keras.layers import Dense\n",
        "from keras.wrappers.scikit_learn import KerasRegressor"
      ]
    },
    {
      "cell_type": "code",
      "execution_count": 2,
      "metadata": {
        "colab": {
          "base_uri": "https://localhost:8080/"
        },
        "id": "a4kjQ6skq0wv",
        "outputId": "650b8b6a-371e-41f5-8354-38daea0a1520"
      },
      "outputs": [
        {
          "name": "stdout",
          "output_type": "stream",
          "text": [
            "Mounted at /content/drive\n"
          ]
        }
      ],
      "source": [
        "drive.mount('/content/drive')\n",
        "text = []\n",
        "with open('/content/drive/MyDrive/Clinical Semantic Textual Similarity/clinicalSTS2019/train/clinicalSTS2019.train.txt', 'r') as f:\n",
        "    for line in f.readlines():\n",
        "      line = line.replace(' ', '\"')\n",
        "      line = line.replace('\"', ' ')\n",
        "      line = line.replace('\\n', ' ')\n",
        "      line = re.split('\\t', line)\n",
        "      text.append(line)"
      ]
    },
    {
      "cell_type": "code",
      "execution_count": 4,
      "metadata": {
        "colab": {
          "base_uri": "https://localhost:8080/",
          "height": 217,
          "referenced_widgets": [
            "ee29a3556ff041c4b01121f2e6f0f2a5",
            "99105d7ced114ceb8f186f497f80a129",
            "303f2bfb74644df9b65394204d1d5f31",
            "3cb46ae876a94855aa2cd0c0b10ac4f8",
            "f98db08317934a09b1c19723b7f4064f",
            "ed21a78ceef344cda435814b3d763077",
            "7729e58506b4404d9dd99acb2e701cf7",
            "d82fc26d18e7410391fddf8f1940d289",
            "c8649721543540e7bb11d99862a5adf7",
            "929dfeecf1ac4835a198d17e0d8a156f",
            "e1bacf352f804172b412a4473f48dc13",
            "521b313a6bd24d57976fb82ec701bfa7",
            "7bedee9476b04b31a4342e9779171ba5",
            "a1d50d6bf9c94b50b3eedf9b17db1bf8",
            "b36f289332a849d897697e35f9851558",
            "06ea0c7b81b8472a9bfd21a410dad0c6",
            "a5af27357bc647f3ac10180e92c984f6",
            "290ed0d280cc42c2a28632d37ec81322",
            "2f7db28e290148b48307dc28f90e2417",
            "89c98a6bd0b241cab61ccecf25bef6a4",
            "6e29d732eb8e4035a77f1dabced8e374",
            "4c5a0427fea644a283f93e1712b7ee2f",
            "31bba75c480648bfa713b59b702dbd69",
            "d9c83c3b024c41ebb2434e6f6117262b",
            "27d721c5a04a4d35a07b70d20b337583",
            "305f8fc4b6c54afd8b1b91eb5d9f00d8",
            "98eeeeac497541c38822e22fe4e23a65",
            "3879901e3b844dd186673d4285ff9cdf",
            "f041225ccea448caaaa2c30b6e3b35c2",
            "d97e7d9fc05f4927af96f7e6256290e4",
            "c57758de146644b09c544540f6928327",
            "18473861fe1b4b789082a0f7971ad506",
            "07febbb2017d4a728f62cbf6365c550b",
            "e6aadcf21b8b408e9e49597c8858cd11",
            "59fab14c1b314df2b76907c5cb063a86",
            "9db7c173520843b5bdf2c3f26421044d",
            "0b15a8823bc042d9872695007db91e64",
            "2389ebd98220460dbdbfe596d0a1a577",
            "1a6f06832b60408d961d925d47c91220",
            "470182321b5c41e78e837664ce8f15e0",
            "c2bd5495b5984ee8884f0961691030cb",
            "652e010e00e343cfb1cb2efd3478db1a",
            "10f3b1988b45481699be217eb0c3c6c1",
            "f31fc1d46f5549268311596aa066372c"
          ]
        },
        "id": "H_DedVCskM2E",
        "outputId": "51f5eff2-307b-440c-fef9-ecca199fcb85"
      },
      "outputs": [
        {
          "data": {
            "application/vnd.jupyter.widget-view+json": {
              "model_id": "ee29a3556ff041c4b01121f2e6f0f2a5",
              "version_major": 2,
              "version_minor": 0
            },
            "text/plain": [
              "Downloading (…)lve/main/config.json:   0%|          | 0.00/570 [00:00<?, ?B/s]"
            ]
          },
          "metadata": {},
          "output_type": "display_data"
        },
        {
          "data": {
            "application/vnd.jupyter.widget-view+json": {
              "model_id": "521b313a6bd24d57976fb82ec701bfa7",
              "version_major": 2,
              "version_minor": 0
            },
            "text/plain": [
              "Downloading (…)\"pytorch_model.bin\";:   0%|          | 0.00/440M [00:00<?, ?B/s]"
            ]
          },
          "metadata": {},
          "output_type": "display_data"
        },
        {
          "name": "stderr",
          "output_type": "stream",
          "text": [
            "Some weights of the model checkpoint at bert-base-uncased were not used when initializing BertForTextRepresentation: ['cls.seq_relationship.weight', 'cls.predictions.transform.LayerNorm.bias', 'cls.seq_relationship.bias', 'cls.predictions.transform.dense.weight', 'cls.predictions.bias', 'cls.predictions.decoder.weight', 'cls.predictions.transform.dense.bias', 'cls.predictions.transform.LayerNorm.weight']\n",
            "- This IS expected if you are initializing BertForTextRepresentation from the checkpoint of a model trained on another task or with another architecture (e.g. initializing a BertForSequenceClassification model from a BertForPreTraining model).\n",
            "- This IS NOT expected if you are initializing BertForTextRepresentation from the checkpoint of a model that you expect to be exactly identical (initializing a BertForSequenceClassification model from a BertForSequenceClassification model).\n"
          ]
        },
        {
          "data": {
            "application/vnd.jupyter.widget-view+json": {
              "model_id": "31bba75c480648bfa713b59b702dbd69",
              "version_major": 2,
              "version_minor": 0
            },
            "text/plain": [
              "Downloading (…)solve/main/vocab.txt:   0%|          | 0.00/232k [00:00<?, ?B/s]"
            ]
          },
          "metadata": {},
          "output_type": "display_data"
        },
        {
          "data": {
            "application/vnd.jupyter.widget-view+json": {
              "model_id": "e6aadcf21b8b408e9e49597c8858cd11",
              "version_major": 2,
              "version_minor": 0
            },
            "text/plain": [
              "Downloading (…)okenizer_config.json:   0%|          | 0.00/28.0 [00:00<?, ?B/s]"
            ]
          },
          "metadata": {},
          "output_type": "display_data"
        }
      ],
      "source": [
        "model = RepresentationModel(\n",
        "        model_type=\"bert\",\n",
        "        model_name=\"bert-base-uncased\",\n",
        "        use_cuda=False\n",
        "    )"
      ]
    },
    {
      "cell_type": "code",
      "execution_count": 5,
      "metadata": {
        "id": "xcaZXORgmv0B"
      },
      "outputs": [],
      "source": [
        "text_embedded=[]\n",
        "label=[]\n",
        "dataset = []\n",
        "\n",
        "for i in range(len(text)):\n",
        "  sentence_vectors = model.encode_sentences(text[i][0:2], combine_strategy=\"mean\")\n",
        "  text_embedded.append(sentence_vectors)\n",
        "  label.append(float(text[i][2]))\n",
        "\n",
        "for i in range(len(text_embedded)):\n",
        "  data = np.concatenate((text_embedded[i][0], text_embedded[i][1]), axis=0, out=None)\n",
        "  dataset.append(data)\n",
        "\n",
        "X_train, X_test, y_train, y_test = train_test_split(dataset, label, random_state=104, test_size=0.25, shuffle=True)\n",
        "\n",
        "y_train = np.array(y_train)\n",
        "y_test = np.array(y_test)\n",
        "\n",
        "X_train = np.array(X_train)\n",
        "X_test = np.array(X_test)"
      ]
    },
    {
      "cell_type": "code",
      "execution_count": 84,
      "metadata": {
        "colab": {
          "base_uri": "https://localhost:8080/"
        },
        "id": "natYqV_GfpQy",
        "outputId": "4f626747-7211-46d8-bf3d-3bcd706e7f05"
      },
      "outputs": [
        {
          "name": "stderr",
          "output_type": "stream",
          "text": [
            "<ipython-input-84-562045f76b4d>:14: DeprecationWarning: KerasRegressor is deprecated, use Sci-Keras (https://github.com/adriangb/scikeras) instead. See https://www.adriangb.com/scikeras/stable/migration.html for help migrating.\n",
            "  estimator = KerasRegressor(build_fn=baseline_model, epochs=50, batch_size=5, verbose=1)\n"
          ]
        }
      ],
      "source": [
        "def baseline_model():\n",
        "# create model\n",
        "  model = Sequential()\n",
        "  model.add(Dense(1536, input_shape=(1536,), kernel_initializer='normal', activation='sigmoid'))\n",
        "  model.add(Dense(1000, activation='relu'))\n",
        "  model.add(Dense(500, activation='relu'))\n",
        "  model.add(Dense(250, activation='relu'))  \n",
        "  model.add(Dense(25, activation='relu'))  \n",
        "  model.add(Dense(1, kernel_initializer='normal'))\n",
        "  # Compile model\n",
        "  model.compile(loss='mean_squared_error', optimizer='adam')\n",
        "  return model\n",
        "# evaluate model\n",
        "estimator = KerasRegressor(build_fn=baseline_model, epochs=50, batch_size=5, verbose=1)"
      ]
    },
    {
      "cell_type": "code",
      "execution_count": 85,
      "metadata": {
        "colab": {
          "base_uri": "https://localhost:8080/"
        },
        "id": "g-5wxFjef3PN",
        "outputId": "dabe12a2-2d27-4294-98db-e4cbade1344c"
      },
      "outputs": [
        {
          "name": "stdout",
          "output_type": "stream",
          "text": [
            "Epoch 1/50\n",
            "247/247 [==============================] - 12s 48ms/step - loss: 1.7796\n",
            "Epoch 2/50\n",
            "247/247 [==============================] - 12s 47ms/step - loss: 1.2446\n",
            "Epoch 3/50\n",
            "247/247 [==============================] - 12s 48ms/step - loss: 1.2012\n",
            "Epoch 4/50\n",
            "247/247 [==============================] - 11s 46ms/step - loss: 1.0487\n",
            "Epoch 5/50\n",
            "247/247 [==============================] - 11s 45ms/step - loss: 0.9327\n",
            "Epoch 6/50\n",
            "247/247 [==============================] - 12s 50ms/step - loss: 0.8398\n",
            "Epoch 7/50\n",
            "247/247 [==============================] - 12s 47ms/step - loss: 0.7214\n",
            "Epoch 8/50\n",
            "247/247 [==============================] - 11s 46ms/step - loss: 0.6276\n",
            "Epoch 9/50\n",
            "247/247 [==============================] - 11s 45ms/step - loss: 0.5593\n",
            "Epoch 10/50\n",
            "247/247 [==============================] - 11s 45ms/step - loss: 0.4761\n",
            "Epoch 11/50\n",
            "247/247 [==============================] - 13s 52ms/step - loss: 0.4269\n",
            "Epoch 12/50\n",
            "247/247 [==============================] - 11s 46ms/step - loss: 0.3806\n",
            "Epoch 13/50\n",
            "247/247 [==============================] - 11s 46ms/step - loss: 0.3699\n",
            "Epoch 14/50\n",
            "247/247 [==============================] - 11s 46ms/step - loss: 0.3222\n",
            "Epoch 15/50\n",
            "247/247 [==============================] - 11s 46ms/step - loss: 0.2995\n",
            "Epoch 16/50\n",
            "247/247 [==============================] - 11s 45ms/step - loss: 0.2475\n",
            "Epoch 17/50\n",
            "247/247 [==============================] - 11s 45ms/step - loss: 0.2379\n",
            "Epoch 18/50\n",
            "247/247 [==============================] - 11s 46ms/step - loss: 0.2145\n",
            "Epoch 19/50\n",
            "247/247 [==============================] - 11s 46ms/step - loss: 0.2225\n",
            "Epoch 20/50\n",
            "247/247 [==============================] - 11s 45ms/step - loss: 0.2069\n",
            "Epoch 21/50\n",
            "247/247 [==============================] - 11s 45ms/step - loss: 0.2044\n",
            "Epoch 22/50\n",
            "247/247 [==============================] - 11s 46ms/step - loss: 0.1855\n",
            "Epoch 23/50\n",
            "247/247 [==============================] - 11s 46ms/step - loss: 0.1465\n",
            "Epoch 24/50\n",
            "247/247 [==============================] - 11s 46ms/step - loss: 0.1537\n",
            "Epoch 25/50\n",
            "247/247 [==============================] - 11s 46ms/step - loss: 0.1417\n",
            "Epoch 26/50\n",
            "247/247 [==============================] - 13s 53ms/step - loss: 0.1285\n",
            "Epoch 27/50\n",
            "247/247 [==============================] - 11s 45ms/step - loss: 0.1275\n",
            "Epoch 28/50\n",
            "247/247 [==============================] - 11s 45ms/step - loss: 0.1298\n",
            "Epoch 29/50\n",
            "247/247 [==============================] - 11s 45ms/step - loss: 0.1110\n",
            "Epoch 30/50\n",
            "247/247 [==============================] - 11s 46ms/step - loss: 0.1347\n",
            "Epoch 31/50\n",
            "247/247 [==============================] - 11s 46ms/step - loss: 0.1112\n",
            "Epoch 32/50\n",
            "247/247 [==============================] - 11s 46ms/step - loss: 0.1093\n",
            "Epoch 33/50\n",
            "247/247 [==============================] - 11s 46ms/step - loss: 0.1122\n",
            "Epoch 34/50\n",
            "247/247 [==============================] - 11s 46ms/step - loss: 0.1079\n",
            "Epoch 35/50\n",
            "247/247 [==============================] - 11s 47ms/step - loss: 0.0934\n",
            "Epoch 36/50\n",
            "247/247 [==============================] - 11s 46ms/step - loss: 0.0970\n",
            "Epoch 37/50\n",
            "247/247 [==============================] - 14s 57ms/step - loss: 0.0917\n",
            "Epoch 38/50\n",
            "247/247 [==============================] - 11s 46ms/step - loss: 0.0911\n",
            "Epoch 39/50\n",
            "247/247 [==============================] - 11s 45ms/step - loss: 0.0818\n",
            "Epoch 40/50\n",
            "247/247 [==============================] - 14s 56ms/step - loss: 0.1133\n",
            "Epoch 41/50\n",
            "247/247 [==============================] - 11s 46ms/step - loss: 0.0831\n",
            "Epoch 42/50\n",
            "247/247 [==============================] - 11s 46ms/step - loss: 0.0808\n",
            "Epoch 43/50\n",
            "247/247 [==============================] - 11s 46ms/step - loss: 0.0700\n",
            "Epoch 44/50\n",
            "247/247 [==============================] - 11s 46ms/step - loss: 0.0806\n",
            "Epoch 45/50\n",
            "247/247 [==============================] - 11s 46ms/step - loss: 0.0799\n",
            "Epoch 46/50\n",
            "247/247 [==============================] - 11s 46ms/step - loss: 0.0620\n",
            "Epoch 47/50\n",
            "247/247 [==============================] - 11s 46ms/step - loss: 0.0641\n",
            "Epoch 48/50\n",
            "247/247 [==============================] - 11s 46ms/step - loss: 0.0715\n",
            "Epoch 49/50\n",
            "247/247 [==============================] - 11s 46ms/step - loss: 0.0623\n",
            "Epoch 50/50\n",
            "247/247 [==============================] - 11s 46ms/step - loss: 0.0559\n"
          ]
        },
        {
          "data": {
            "text/plain": [
              "<keras.callbacks.History at 0x7f183b8bdd90>"
            ]
          },
          "execution_count": 85,
          "metadata": {},
          "output_type": "execute_result"
        }
      ],
      "source": [
        "estimator.fit(X_train, y_train)"
      ]
    },
    {
      "cell_type": "code",
      "execution_count": 86,
      "metadata": {
        "colab": {
          "base_uri": "https://localhost:8080/"
        },
        "id": "7E7tEVHWzMoR",
        "outputId": "766f3dc0-82d8-46fb-de90-a0a67a0c8e4a"
      },
      "outputs": [
        {
          "name": "stdout",
          "output_type": "stream",
          "text": [
            "83/83 [==============================] - 1s 15ms/step\n"
          ]
        },
        {
          "data": {
            "text/plain": [
              "array([3.5773168, 1.2410508, 2.761137 , 2.7151198, 2.186749 , 3.8808203,\n",
              "       4.093165 , 1.5626189, 2.3120804, 4.6806474, 3.413715 , 1.4806215,\n",
              "       1.4575315, 0.8821032, 4.4781113], dtype=float32)"
            ]
          },
          "execution_count": 86,
          "metadata": {},
          "output_type": "execute_result"
        }
      ],
      "source": [
        "y_pred = estimator.predict(X_test)\n",
        "y_pred[0:15]"
      ]
    },
    {
      "cell_type": "code",
      "execution_count": 80,
      "metadata": {
        "colab": {
          "base_uri": "https://localhost:8080/"
        },
        "id": "VVmecY-7tFs8",
        "outputId": "4a3178f1-d23e-465a-b6b6-e54b767770d6"
      },
      "outputs": [
        {
          "data": {
            "text/plain": [
              "array([4.9 , 1.  , 2.  , 0.5 , 1.5 , 4.  , 4.25, 0.5 , 2.25, 4.4 , 2.5 ,\n",
              "       1.65, 1.  , 3.  , 3.5 ])"
            ]
          },
          "execution_count": 80,
          "metadata": {},
          "output_type": "execute_result"
        }
      ],
      "source": [
        "y_test[0:15]"
      ]
    },
    {
      "cell_type": "code",
      "execution_count": 81,
      "metadata": {
        "colab": {
          "base_uri": "https://localhost:8080/"
        },
        "id": "hek5k-kwtNwG",
        "outputId": "184a2fe5-1b30-4d08-bede-04b34b8e8237"
      },
      "outputs": [
        {
          "name": "stdout",
          "output_type": "stream",
          "text": [
            "1.258116636045453 0.8505762865907375 0.38926964845129175\n"
          ]
        }
      ],
      "source": [
        "from sklearn.metrics import mean_squared_error, mean_absolute_error, r2_score\n",
        "print(mean_squared_error(y_test, y_pred),mean_absolute_error(y_test, y_pred), r2_score(y_test, y_pred))"
      ]
    },
    {
      "cell_type": "markdown",
      "metadata": {
        "id": "1YIFhbaMvPov"
      },
      "source": [
        "prestazioni da migliorare assoutamente, o modificando l'architettura di rete o idealmente cambiando approccio da principio: attualemente ogni X_train è il composto dell embedding delle due frasi concatenate.\n",
        "si deve esplorare la possibilita di non concatenare le frasi e passarle alla rete descritta di sotto, come input separati da unire all' interno della rete "
      ]
    },
    {
      "cell_type": "code",
      "execution_count": 89,
      "metadata": {
        "colab": {
          "base_uri": "https://localhost:8080/"
        },
        "id": "5BToCb0zsVOk",
        "outputId": "0e61a926-c331-41c5-cd65-a600a9b13e5a"
      },
      "outputs": [
        {
          "name": "stdout",
          "output_type": "stream",
          "text": [
            "Model: \"sequential_9\"\n",
            "_________________________________________________________________\n",
            " Layer (type)                Output Shape              Param #   \n",
            "=================================================================\n",
            " dense_31 (Dense)            (None, 2, 256)            196864    \n",
            "                                                                 \n",
            " dense_32 (Dense)            (None, 2, 128)            32896     \n",
            "                                                                 \n",
            " dense_33 (Dense)            (None, 2, 64)             8256      \n",
            "                                                                 \n",
            " flatten_6 (Flatten)         (None, 128)               0         \n",
            "                                                                 \n",
            " dense_34 (Dense)            (None, 64)                8256      \n",
            "                                                                 \n",
            " dense_35 (Dense)            (None, 16)                1040      \n",
            "                                                                 \n",
            " dense_36 (Dense)            (None, 4)                 68        \n",
            "                                                                 \n",
            " dense_37 (Dense)            (None, 1)                 5         \n",
            "                                                                 \n",
            " activation_8 (Activation)   (None, 1)                 0         \n",
            "                                                                 \n",
            "=================================================================\n",
            "Total params: 247,385\n",
            "Trainable params: 247,385\n",
            "Non-trainable params: 0\n",
            "_________________________________________________________________\n"
          ]
        }
      ],
      "source": [
        "from keras.engine import input_layer\n",
        "from keras.layers import Dense, Activation, Flatten, Conv2D, MaxPooling2D\n",
        "from keras.models import Sequential\n",
        "import keras\n",
        "\n",
        "net= Sequential()\n",
        "net.add(keras.Input(shape =(2, 768)))\n",
        "net.add(Dense(256))\n",
        "net.add(Dense(128))\n",
        "net.add(Dense(64))\n",
        "net.add(Flatten())\n",
        "net.add(Dense(64))\n",
        "net.add(Dense(16))\n",
        "net.add(Dense(4))\n",
        "net.add(Dense(1))\n",
        "net.add(Activation('softmax'))\n",
        "net.compile(loss='mean_absolute_error', optimizer=keras.optimizers.Adam(), metrics=['accuracy'])\n",
        "\n",
        "net.summary()"
      ]
    }
  ],
  "metadata": {
    "colab": {
      "provenance": []
    },
    "kernelspec": {
      "display_name": "Python 3",
      "name": "python3"
    },
    "language_info": {
      "name": "python"
    },
    "widgets": {
      "application/vnd.jupyter.widget-state+json": {
        "06ea0c7b81b8472a9bfd21a410dad0c6": {
          "model_module": "@jupyter-widgets/base",
          "model_module_version": "1.2.0",
          "model_name": "LayoutModel",
          "state": {
            "_model_module": "@jupyter-widgets/base",
            "_model_module_version": "1.2.0",
            "_model_name": "LayoutModel",
            "_view_count": null,
            "_view_module": "@jupyter-widgets/base",
            "_view_module_version": "1.2.0",
            "_view_name": "LayoutView",
            "align_content": null,
            "align_items": null,
            "align_self": null,
            "border": null,
            "bottom": null,
            "display": null,
            "flex": null,
            "flex_flow": null,
            "grid_area": null,
            "grid_auto_columns": null,
            "grid_auto_flow": null,
            "grid_auto_rows": null,
            "grid_column": null,
            "grid_gap": null,
            "grid_row": null,
            "grid_template_areas": null,
            "grid_template_columns": null,
            "grid_template_rows": null,
            "height": null,
            "justify_content": null,
            "justify_items": null,
            "left": null,
            "margin": null,
            "max_height": null,
            "max_width": null,
            "min_height": null,
            "min_width": null,
            "object_fit": null,
            "object_position": null,
            "order": null,
            "overflow": null,
            "overflow_x": null,
            "overflow_y": null,
            "padding": null,
            "right": null,
            "top": null,
            "visibility": null,
            "width": null
          }
        },
        "07febbb2017d4a728f62cbf6365c550b": {
          "model_module": "@jupyter-widgets/controls",
          "model_module_version": "1.5.0",
          "model_name": "DescriptionStyleModel",
          "state": {
            "_model_module": "@jupyter-widgets/controls",
            "_model_module_version": "1.5.0",
            "_model_name": "DescriptionStyleModel",
            "_view_count": null,
            "_view_module": "@jupyter-widgets/base",
            "_view_module_version": "1.2.0",
            "_view_name": "StyleView",
            "description_width": ""
          }
        },
        "0b15a8823bc042d9872695007db91e64": {
          "model_module": "@jupyter-widgets/controls",
          "model_module_version": "1.5.0",
          "model_name": "HTMLModel",
          "state": {
            "_dom_classes": [],
            "_model_module": "@jupyter-widgets/controls",
            "_model_module_version": "1.5.0",
            "_model_name": "HTMLModel",
            "_view_count": null,
            "_view_module": "@jupyter-widgets/controls",
            "_view_module_version": "1.5.0",
            "_view_name": "HTMLView",
            "description": "",
            "description_tooltip": null,
            "layout": "IPY_MODEL_10f3b1988b45481699be217eb0c3c6c1",
            "placeholder": "​",
            "style": "IPY_MODEL_f31fc1d46f5549268311596aa066372c",
            "value": " 28.0/28.0 [00:00&lt;00:00, 872B/s]"
          }
        },
        "10f3b1988b45481699be217eb0c3c6c1": {
          "model_module": "@jupyter-widgets/base",
          "model_module_version": "1.2.0",
          "model_name": "LayoutModel",
          "state": {
            "_model_module": "@jupyter-widgets/base",
            "_model_module_version": "1.2.0",
            "_model_name": "LayoutModel",
            "_view_count": null,
            "_view_module": "@jupyter-widgets/base",
            "_view_module_version": "1.2.0",
            "_view_name": "LayoutView",
            "align_content": null,
            "align_items": null,
            "align_self": null,
            "border": null,
            "bottom": null,
            "display": null,
            "flex": null,
            "flex_flow": null,
            "grid_area": null,
            "grid_auto_columns": null,
            "grid_auto_flow": null,
            "grid_auto_rows": null,
            "grid_column": null,
            "grid_gap": null,
            "grid_row": null,
            "grid_template_areas": null,
            "grid_template_columns": null,
            "grid_template_rows": null,
            "height": null,
            "justify_content": null,
            "justify_items": null,
            "left": null,
            "margin": null,
            "max_height": null,
            "max_width": null,
            "min_height": null,
            "min_width": null,
            "object_fit": null,
            "object_position": null,
            "order": null,
            "overflow": null,
            "overflow_x": null,
            "overflow_y": null,
            "padding": null,
            "right": null,
            "top": null,
            "visibility": null,
            "width": null
          }
        },
        "18473861fe1b4b789082a0f7971ad506": {
          "model_module": "@jupyter-widgets/base",
          "model_module_version": "1.2.0",
          "model_name": "LayoutModel",
          "state": {
            "_model_module": "@jupyter-widgets/base",
            "_model_module_version": "1.2.0",
            "_model_name": "LayoutModel",
            "_view_count": null,
            "_view_module": "@jupyter-widgets/base",
            "_view_module_version": "1.2.0",
            "_view_name": "LayoutView",
            "align_content": null,
            "align_items": null,
            "align_self": null,
            "border": null,
            "bottom": null,
            "display": null,
            "flex": null,
            "flex_flow": null,
            "grid_area": null,
            "grid_auto_columns": null,
            "grid_auto_flow": null,
            "grid_auto_rows": null,
            "grid_column": null,
            "grid_gap": null,
            "grid_row": null,
            "grid_template_areas": null,
            "grid_template_columns": null,
            "grid_template_rows": null,
            "height": null,
            "justify_content": null,
            "justify_items": null,
            "left": null,
            "margin": null,
            "max_height": null,
            "max_width": null,
            "min_height": null,
            "min_width": null,
            "object_fit": null,
            "object_position": null,
            "order": null,
            "overflow": null,
            "overflow_x": null,
            "overflow_y": null,
            "padding": null,
            "right": null,
            "top": null,
            "visibility": null,
            "width": null
          }
        },
        "1a6f06832b60408d961d925d47c91220": {
          "model_module": "@jupyter-widgets/base",
          "model_module_version": "1.2.0",
          "model_name": "LayoutModel",
          "state": {
            "_model_module": "@jupyter-widgets/base",
            "_model_module_version": "1.2.0",
            "_model_name": "LayoutModel",
            "_view_count": null,
            "_view_module": "@jupyter-widgets/base",
            "_view_module_version": "1.2.0",
            "_view_name": "LayoutView",
            "align_content": null,
            "align_items": null,
            "align_self": null,
            "border": null,
            "bottom": null,
            "display": null,
            "flex": null,
            "flex_flow": null,
            "grid_area": null,
            "grid_auto_columns": null,
            "grid_auto_flow": null,
            "grid_auto_rows": null,
            "grid_column": null,
            "grid_gap": null,
            "grid_row": null,
            "grid_template_areas": null,
            "grid_template_columns": null,
            "grid_template_rows": null,
            "height": null,
            "justify_content": null,
            "justify_items": null,
            "left": null,
            "margin": null,
            "max_height": null,
            "max_width": null,
            "min_height": null,
            "min_width": null,
            "object_fit": null,
            "object_position": null,
            "order": null,
            "overflow": null,
            "overflow_x": null,
            "overflow_y": null,
            "padding": null,
            "right": null,
            "top": null,
            "visibility": null,
            "width": null
          }
        },
        "2389ebd98220460dbdbfe596d0a1a577": {
          "model_module": "@jupyter-widgets/base",
          "model_module_version": "1.2.0",
          "model_name": "LayoutModel",
          "state": {
            "_model_module": "@jupyter-widgets/base",
            "_model_module_version": "1.2.0",
            "_model_name": "LayoutModel",
            "_view_count": null,
            "_view_module": "@jupyter-widgets/base",
            "_view_module_version": "1.2.0",
            "_view_name": "LayoutView",
            "align_content": null,
            "align_items": null,
            "align_self": null,
            "border": null,
            "bottom": null,
            "display": null,
            "flex": null,
            "flex_flow": null,
            "grid_area": null,
            "grid_auto_columns": null,
            "grid_auto_flow": null,
            "grid_auto_rows": null,
            "grid_column": null,
            "grid_gap": null,
            "grid_row": null,
            "grid_template_areas": null,
            "grid_template_columns": null,
            "grid_template_rows": null,
            "height": null,
            "justify_content": null,
            "justify_items": null,
            "left": null,
            "margin": null,
            "max_height": null,
            "max_width": null,
            "min_height": null,
            "min_width": null,
            "object_fit": null,
            "object_position": null,
            "order": null,
            "overflow": null,
            "overflow_x": null,
            "overflow_y": null,
            "padding": null,
            "right": null,
            "top": null,
            "visibility": null,
            "width": null
          }
        },
        "27d721c5a04a4d35a07b70d20b337583": {
          "model_module": "@jupyter-widgets/controls",
          "model_module_version": "1.5.0",
          "model_name": "FloatProgressModel",
          "state": {
            "_dom_classes": [],
            "_model_module": "@jupyter-widgets/controls",
            "_model_module_version": "1.5.0",
            "_model_name": "FloatProgressModel",
            "_view_count": null,
            "_view_module": "@jupyter-widgets/controls",
            "_view_module_version": "1.5.0",
            "_view_name": "ProgressView",
            "bar_style": "success",
            "description": "",
            "description_tooltip": null,
            "layout": "IPY_MODEL_d97e7d9fc05f4927af96f7e6256290e4",
            "max": 231508,
            "min": 0,
            "orientation": "horizontal",
            "style": "IPY_MODEL_c57758de146644b09c544540f6928327",
            "value": 231508
          }
        },
        "290ed0d280cc42c2a28632d37ec81322": {
          "model_module": "@jupyter-widgets/controls",
          "model_module_version": "1.5.0",
          "model_name": "DescriptionStyleModel",
          "state": {
            "_model_module": "@jupyter-widgets/controls",
            "_model_module_version": "1.5.0",
            "_model_name": "DescriptionStyleModel",
            "_view_count": null,
            "_view_module": "@jupyter-widgets/base",
            "_view_module_version": "1.2.0",
            "_view_name": "StyleView",
            "description_width": ""
          }
        },
        "2f7db28e290148b48307dc28f90e2417": {
          "model_module": "@jupyter-widgets/base",
          "model_module_version": "1.2.0",
          "model_name": "LayoutModel",
          "state": {
            "_model_module": "@jupyter-widgets/base",
            "_model_module_version": "1.2.0",
            "_model_name": "LayoutModel",
            "_view_count": null,
            "_view_module": "@jupyter-widgets/base",
            "_view_module_version": "1.2.0",
            "_view_name": "LayoutView",
            "align_content": null,
            "align_items": null,
            "align_self": null,
            "border": null,
            "bottom": null,
            "display": null,
            "flex": null,
            "flex_flow": null,
            "grid_area": null,
            "grid_auto_columns": null,
            "grid_auto_flow": null,
            "grid_auto_rows": null,
            "grid_column": null,
            "grid_gap": null,
            "grid_row": null,
            "grid_template_areas": null,
            "grid_template_columns": null,
            "grid_template_rows": null,
            "height": null,
            "justify_content": null,
            "justify_items": null,
            "left": null,
            "margin": null,
            "max_height": null,
            "max_width": null,
            "min_height": null,
            "min_width": null,
            "object_fit": null,
            "object_position": null,
            "order": null,
            "overflow": null,
            "overflow_x": null,
            "overflow_y": null,
            "padding": null,
            "right": null,
            "top": null,
            "visibility": null,
            "width": null
          }
        },
        "303f2bfb74644df9b65394204d1d5f31": {
          "model_module": "@jupyter-widgets/controls",
          "model_module_version": "1.5.0",
          "model_name": "FloatProgressModel",
          "state": {
            "_dom_classes": [],
            "_model_module": "@jupyter-widgets/controls",
            "_model_module_version": "1.5.0",
            "_model_name": "FloatProgressModel",
            "_view_count": null,
            "_view_module": "@jupyter-widgets/controls",
            "_view_module_version": "1.5.0",
            "_view_name": "ProgressView",
            "bar_style": "success",
            "description": "",
            "description_tooltip": null,
            "layout": "IPY_MODEL_d82fc26d18e7410391fddf8f1940d289",
            "max": 570,
            "min": 0,
            "orientation": "horizontal",
            "style": "IPY_MODEL_c8649721543540e7bb11d99862a5adf7",
            "value": 570
          }
        },
        "305f8fc4b6c54afd8b1b91eb5d9f00d8": {
          "model_module": "@jupyter-widgets/controls",
          "model_module_version": "1.5.0",
          "model_name": "HTMLModel",
          "state": {
            "_dom_classes": [],
            "_model_module": "@jupyter-widgets/controls",
            "_model_module_version": "1.5.0",
            "_model_name": "HTMLModel",
            "_view_count": null,
            "_view_module": "@jupyter-widgets/controls",
            "_view_module_version": "1.5.0",
            "_view_name": "HTMLView",
            "description": "",
            "description_tooltip": null,
            "layout": "IPY_MODEL_18473861fe1b4b789082a0f7971ad506",
            "placeholder": "​",
            "style": "IPY_MODEL_07febbb2017d4a728f62cbf6365c550b",
            "value": " 232k/232k [00:00&lt;00:00, 1.96MB/s]"
          }
        },
        "31bba75c480648bfa713b59b702dbd69": {
          "model_module": "@jupyter-widgets/controls",
          "model_module_version": "1.5.0",
          "model_name": "HBoxModel",
          "state": {
            "_dom_classes": [],
            "_model_module": "@jupyter-widgets/controls",
            "_model_module_version": "1.5.0",
            "_model_name": "HBoxModel",
            "_view_count": null,
            "_view_module": "@jupyter-widgets/controls",
            "_view_module_version": "1.5.0",
            "_view_name": "HBoxView",
            "box_style": "",
            "children": [
              "IPY_MODEL_d9c83c3b024c41ebb2434e6f6117262b",
              "IPY_MODEL_27d721c5a04a4d35a07b70d20b337583",
              "IPY_MODEL_305f8fc4b6c54afd8b1b91eb5d9f00d8"
            ],
            "layout": "IPY_MODEL_98eeeeac497541c38822e22fe4e23a65"
          }
        },
        "3879901e3b844dd186673d4285ff9cdf": {
          "model_module": "@jupyter-widgets/base",
          "model_module_version": "1.2.0",
          "model_name": "LayoutModel",
          "state": {
            "_model_module": "@jupyter-widgets/base",
            "_model_module_version": "1.2.0",
            "_model_name": "LayoutModel",
            "_view_count": null,
            "_view_module": "@jupyter-widgets/base",
            "_view_module_version": "1.2.0",
            "_view_name": "LayoutView",
            "align_content": null,
            "align_items": null,
            "align_self": null,
            "border": null,
            "bottom": null,
            "display": null,
            "flex": null,
            "flex_flow": null,
            "grid_area": null,
            "grid_auto_columns": null,
            "grid_auto_flow": null,
            "grid_auto_rows": null,
            "grid_column": null,
            "grid_gap": null,
            "grid_row": null,
            "grid_template_areas": null,
            "grid_template_columns": null,
            "grid_template_rows": null,
            "height": null,
            "justify_content": null,
            "justify_items": null,
            "left": null,
            "margin": null,
            "max_height": null,
            "max_width": null,
            "min_height": null,
            "min_width": null,
            "object_fit": null,
            "object_position": null,
            "order": null,
            "overflow": null,
            "overflow_x": null,
            "overflow_y": null,
            "padding": null,
            "right": null,
            "top": null,
            "visibility": null,
            "width": null
          }
        },
        "3cb46ae876a94855aa2cd0c0b10ac4f8": {
          "model_module": "@jupyter-widgets/controls",
          "model_module_version": "1.5.0",
          "model_name": "HTMLModel",
          "state": {
            "_dom_classes": [],
            "_model_module": "@jupyter-widgets/controls",
            "_model_module_version": "1.5.0",
            "_model_name": "HTMLModel",
            "_view_count": null,
            "_view_module": "@jupyter-widgets/controls",
            "_view_module_version": "1.5.0",
            "_view_name": "HTMLView",
            "description": "",
            "description_tooltip": null,
            "layout": "IPY_MODEL_929dfeecf1ac4835a198d17e0d8a156f",
            "placeholder": "​",
            "style": "IPY_MODEL_e1bacf352f804172b412a4473f48dc13",
            "value": " 570/570 [00:00&lt;00:00, 10.1kB/s]"
          }
        },
        "470182321b5c41e78e837664ce8f15e0": {
          "model_module": "@jupyter-widgets/controls",
          "model_module_version": "1.5.0",
          "model_name": "DescriptionStyleModel",
          "state": {
            "_model_module": "@jupyter-widgets/controls",
            "_model_module_version": "1.5.0",
            "_model_name": "DescriptionStyleModel",
            "_view_count": null,
            "_view_module": "@jupyter-widgets/base",
            "_view_module_version": "1.2.0",
            "_view_name": "StyleView",
            "description_width": ""
          }
        },
        "4c5a0427fea644a283f93e1712b7ee2f": {
          "model_module": "@jupyter-widgets/controls",
          "model_module_version": "1.5.0",
          "model_name": "DescriptionStyleModel",
          "state": {
            "_model_module": "@jupyter-widgets/controls",
            "_model_module_version": "1.5.0",
            "_model_name": "DescriptionStyleModel",
            "_view_count": null,
            "_view_module": "@jupyter-widgets/base",
            "_view_module_version": "1.2.0",
            "_view_name": "StyleView",
            "description_width": ""
          }
        },
        "521b313a6bd24d57976fb82ec701bfa7": {
          "model_module": "@jupyter-widgets/controls",
          "model_module_version": "1.5.0",
          "model_name": "HBoxModel",
          "state": {
            "_dom_classes": [],
            "_model_module": "@jupyter-widgets/controls",
            "_model_module_version": "1.5.0",
            "_model_name": "HBoxModel",
            "_view_count": null,
            "_view_module": "@jupyter-widgets/controls",
            "_view_module_version": "1.5.0",
            "_view_name": "HBoxView",
            "box_style": "",
            "children": [
              "IPY_MODEL_7bedee9476b04b31a4342e9779171ba5",
              "IPY_MODEL_a1d50d6bf9c94b50b3eedf9b17db1bf8",
              "IPY_MODEL_b36f289332a849d897697e35f9851558"
            ],
            "layout": "IPY_MODEL_06ea0c7b81b8472a9bfd21a410dad0c6"
          }
        },
        "59fab14c1b314df2b76907c5cb063a86": {
          "model_module": "@jupyter-widgets/controls",
          "model_module_version": "1.5.0",
          "model_name": "HTMLModel",
          "state": {
            "_dom_classes": [],
            "_model_module": "@jupyter-widgets/controls",
            "_model_module_version": "1.5.0",
            "_model_name": "HTMLModel",
            "_view_count": null,
            "_view_module": "@jupyter-widgets/controls",
            "_view_module_version": "1.5.0",
            "_view_name": "HTMLView",
            "description": "",
            "description_tooltip": null,
            "layout": "IPY_MODEL_1a6f06832b60408d961d925d47c91220",
            "placeholder": "​",
            "style": "IPY_MODEL_470182321b5c41e78e837664ce8f15e0",
            "value": "Downloading (…)okenizer_config.json: 100%"
          }
        },
        "652e010e00e343cfb1cb2efd3478db1a": {
          "model_module": "@jupyter-widgets/controls",
          "model_module_version": "1.5.0",
          "model_name": "ProgressStyleModel",
          "state": {
            "_model_module": "@jupyter-widgets/controls",
            "_model_module_version": "1.5.0",
            "_model_name": "ProgressStyleModel",
            "_view_count": null,
            "_view_module": "@jupyter-widgets/base",
            "_view_module_version": "1.2.0",
            "_view_name": "StyleView",
            "bar_color": null,
            "description_width": ""
          }
        },
        "6e29d732eb8e4035a77f1dabced8e374": {
          "model_module": "@jupyter-widgets/base",
          "model_module_version": "1.2.0",
          "model_name": "LayoutModel",
          "state": {
            "_model_module": "@jupyter-widgets/base",
            "_model_module_version": "1.2.0",
            "_model_name": "LayoutModel",
            "_view_count": null,
            "_view_module": "@jupyter-widgets/base",
            "_view_module_version": "1.2.0",
            "_view_name": "LayoutView",
            "align_content": null,
            "align_items": null,
            "align_self": null,
            "border": null,
            "bottom": null,
            "display": null,
            "flex": null,
            "flex_flow": null,
            "grid_area": null,
            "grid_auto_columns": null,
            "grid_auto_flow": null,
            "grid_auto_rows": null,
            "grid_column": null,
            "grid_gap": null,
            "grid_row": null,
            "grid_template_areas": null,
            "grid_template_columns": null,
            "grid_template_rows": null,
            "height": null,
            "justify_content": null,
            "justify_items": null,
            "left": null,
            "margin": null,
            "max_height": null,
            "max_width": null,
            "min_height": null,
            "min_width": null,
            "object_fit": null,
            "object_position": null,
            "order": null,
            "overflow": null,
            "overflow_x": null,
            "overflow_y": null,
            "padding": null,
            "right": null,
            "top": null,
            "visibility": null,
            "width": null
          }
        },
        "7729e58506b4404d9dd99acb2e701cf7": {
          "model_module": "@jupyter-widgets/controls",
          "model_module_version": "1.5.0",
          "model_name": "DescriptionStyleModel",
          "state": {
            "_model_module": "@jupyter-widgets/controls",
            "_model_module_version": "1.5.0",
            "_model_name": "DescriptionStyleModel",
            "_view_count": null,
            "_view_module": "@jupyter-widgets/base",
            "_view_module_version": "1.2.0",
            "_view_name": "StyleView",
            "description_width": ""
          }
        },
        "7bedee9476b04b31a4342e9779171ba5": {
          "model_module": "@jupyter-widgets/controls",
          "model_module_version": "1.5.0",
          "model_name": "HTMLModel",
          "state": {
            "_dom_classes": [],
            "_model_module": "@jupyter-widgets/controls",
            "_model_module_version": "1.5.0",
            "_model_name": "HTMLModel",
            "_view_count": null,
            "_view_module": "@jupyter-widgets/controls",
            "_view_module_version": "1.5.0",
            "_view_name": "HTMLView",
            "description": "",
            "description_tooltip": null,
            "layout": "IPY_MODEL_a5af27357bc647f3ac10180e92c984f6",
            "placeholder": "​",
            "style": "IPY_MODEL_290ed0d280cc42c2a28632d37ec81322",
            "value": "Downloading (…)&quot;pytorch_model.bin&quot;;: 100%"
          }
        },
        "89c98a6bd0b241cab61ccecf25bef6a4": {
          "model_module": "@jupyter-widgets/controls",
          "model_module_version": "1.5.0",
          "model_name": "ProgressStyleModel",
          "state": {
            "_model_module": "@jupyter-widgets/controls",
            "_model_module_version": "1.5.0",
            "_model_name": "ProgressStyleModel",
            "_view_count": null,
            "_view_module": "@jupyter-widgets/base",
            "_view_module_version": "1.2.0",
            "_view_name": "StyleView",
            "bar_color": null,
            "description_width": ""
          }
        },
        "929dfeecf1ac4835a198d17e0d8a156f": {
          "model_module": "@jupyter-widgets/base",
          "model_module_version": "1.2.0",
          "model_name": "LayoutModel",
          "state": {
            "_model_module": "@jupyter-widgets/base",
            "_model_module_version": "1.2.0",
            "_model_name": "LayoutModel",
            "_view_count": null,
            "_view_module": "@jupyter-widgets/base",
            "_view_module_version": "1.2.0",
            "_view_name": "LayoutView",
            "align_content": null,
            "align_items": null,
            "align_self": null,
            "border": null,
            "bottom": null,
            "display": null,
            "flex": null,
            "flex_flow": null,
            "grid_area": null,
            "grid_auto_columns": null,
            "grid_auto_flow": null,
            "grid_auto_rows": null,
            "grid_column": null,
            "grid_gap": null,
            "grid_row": null,
            "grid_template_areas": null,
            "grid_template_columns": null,
            "grid_template_rows": null,
            "height": null,
            "justify_content": null,
            "justify_items": null,
            "left": null,
            "margin": null,
            "max_height": null,
            "max_width": null,
            "min_height": null,
            "min_width": null,
            "object_fit": null,
            "object_position": null,
            "order": null,
            "overflow": null,
            "overflow_x": null,
            "overflow_y": null,
            "padding": null,
            "right": null,
            "top": null,
            "visibility": null,
            "width": null
          }
        },
        "98eeeeac497541c38822e22fe4e23a65": {
          "model_module": "@jupyter-widgets/base",
          "model_module_version": "1.2.0",
          "model_name": "LayoutModel",
          "state": {
            "_model_module": "@jupyter-widgets/base",
            "_model_module_version": "1.2.0",
            "_model_name": "LayoutModel",
            "_view_count": null,
            "_view_module": "@jupyter-widgets/base",
            "_view_module_version": "1.2.0",
            "_view_name": "LayoutView",
            "align_content": null,
            "align_items": null,
            "align_self": null,
            "border": null,
            "bottom": null,
            "display": null,
            "flex": null,
            "flex_flow": null,
            "grid_area": null,
            "grid_auto_columns": null,
            "grid_auto_flow": null,
            "grid_auto_rows": null,
            "grid_column": null,
            "grid_gap": null,
            "grid_row": null,
            "grid_template_areas": null,
            "grid_template_columns": null,
            "grid_template_rows": null,
            "height": null,
            "justify_content": null,
            "justify_items": null,
            "left": null,
            "margin": null,
            "max_height": null,
            "max_width": null,
            "min_height": null,
            "min_width": null,
            "object_fit": null,
            "object_position": null,
            "order": null,
            "overflow": null,
            "overflow_x": null,
            "overflow_y": null,
            "padding": null,
            "right": null,
            "top": null,
            "visibility": null,
            "width": null
          }
        },
        "99105d7ced114ceb8f186f497f80a129": {
          "model_module": "@jupyter-widgets/controls",
          "model_module_version": "1.5.0",
          "model_name": "HTMLModel",
          "state": {
            "_dom_classes": [],
            "_model_module": "@jupyter-widgets/controls",
            "_model_module_version": "1.5.0",
            "_model_name": "HTMLModel",
            "_view_count": null,
            "_view_module": "@jupyter-widgets/controls",
            "_view_module_version": "1.5.0",
            "_view_name": "HTMLView",
            "description": "",
            "description_tooltip": null,
            "layout": "IPY_MODEL_ed21a78ceef344cda435814b3d763077",
            "placeholder": "​",
            "style": "IPY_MODEL_7729e58506b4404d9dd99acb2e701cf7",
            "value": "Downloading (…)lve/main/config.json: 100%"
          }
        },
        "9db7c173520843b5bdf2c3f26421044d": {
          "model_module": "@jupyter-widgets/controls",
          "model_module_version": "1.5.0",
          "model_name": "FloatProgressModel",
          "state": {
            "_dom_classes": [],
            "_model_module": "@jupyter-widgets/controls",
            "_model_module_version": "1.5.0",
            "_model_name": "FloatProgressModel",
            "_view_count": null,
            "_view_module": "@jupyter-widgets/controls",
            "_view_module_version": "1.5.0",
            "_view_name": "ProgressView",
            "bar_style": "success",
            "description": "",
            "description_tooltip": null,
            "layout": "IPY_MODEL_c2bd5495b5984ee8884f0961691030cb",
            "max": 28,
            "min": 0,
            "orientation": "horizontal",
            "style": "IPY_MODEL_652e010e00e343cfb1cb2efd3478db1a",
            "value": 28
          }
        },
        "a1d50d6bf9c94b50b3eedf9b17db1bf8": {
          "model_module": "@jupyter-widgets/controls",
          "model_module_version": "1.5.0",
          "model_name": "FloatProgressModel",
          "state": {
            "_dom_classes": [],
            "_model_module": "@jupyter-widgets/controls",
            "_model_module_version": "1.5.0",
            "_model_name": "FloatProgressModel",
            "_view_count": null,
            "_view_module": "@jupyter-widgets/controls",
            "_view_module_version": "1.5.0",
            "_view_name": "ProgressView",
            "bar_style": "success",
            "description": "",
            "description_tooltip": null,
            "layout": "IPY_MODEL_2f7db28e290148b48307dc28f90e2417",
            "max": 440473133,
            "min": 0,
            "orientation": "horizontal",
            "style": "IPY_MODEL_89c98a6bd0b241cab61ccecf25bef6a4",
            "value": 440473133
          }
        },
        "a5af27357bc647f3ac10180e92c984f6": {
          "model_module": "@jupyter-widgets/base",
          "model_module_version": "1.2.0",
          "model_name": "LayoutModel",
          "state": {
            "_model_module": "@jupyter-widgets/base",
            "_model_module_version": "1.2.0",
            "_model_name": "LayoutModel",
            "_view_count": null,
            "_view_module": "@jupyter-widgets/base",
            "_view_module_version": "1.2.0",
            "_view_name": "LayoutView",
            "align_content": null,
            "align_items": null,
            "align_self": null,
            "border": null,
            "bottom": null,
            "display": null,
            "flex": null,
            "flex_flow": null,
            "grid_area": null,
            "grid_auto_columns": null,
            "grid_auto_flow": null,
            "grid_auto_rows": null,
            "grid_column": null,
            "grid_gap": null,
            "grid_row": null,
            "grid_template_areas": null,
            "grid_template_columns": null,
            "grid_template_rows": null,
            "height": null,
            "justify_content": null,
            "justify_items": null,
            "left": null,
            "margin": null,
            "max_height": null,
            "max_width": null,
            "min_height": null,
            "min_width": null,
            "object_fit": null,
            "object_position": null,
            "order": null,
            "overflow": null,
            "overflow_x": null,
            "overflow_y": null,
            "padding": null,
            "right": null,
            "top": null,
            "visibility": null,
            "width": null
          }
        },
        "b36f289332a849d897697e35f9851558": {
          "model_module": "@jupyter-widgets/controls",
          "model_module_version": "1.5.0",
          "model_name": "HTMLModel",
          "state": {
            "_dom_classes": [],
            "_model_module": "@jupyter-widgets/controls",
            "_model_module_version": "1.5.0",
            "_model_name": "HTMLModel",
            "_view_count": null,
            "_view_module": "@jupyter-widgets/controls",
            "_view_module_version": "1.5.0",
            "_view_name": "HTMLView",
            "description": "",
            "description_tooltip": null,
            "layout": "IPY_MODEL_6e29d732eb8e4035a77f1dabced8e374",
            "placeholder": "​",
            "style": "IPY_MODEL_4c5a0427fea644a283f93e1712b7ee2f",
            "value": " 440M/440M [00:04&lt;00:00, 109MB/s]"
          }
        },
        "c2bd5495b5984ee8884f0961691030cb": {
          "model_module": "@jupyter-widgets/base",
          "model_module_version": "1.2.0",
          "model_name": "LayoutModel",
          "state": {
            "_model_module": "@jupyter-widgets/base",
            "_model_module_version": "1.2.0",
            "_model_name": "LayoutModel",
            "_view_count": null,
            "_view_module": "@jupyter-widgets/base",
            "_view_module_version": "1.2.0",
            "_view_name": "LayoutView",
            "align_content": null,
            "align_items": null,
            "align_self": null,
            "border": null,
            "bottom": null,
            "display": null,
            "flex": null,
            "flex_flow": null,
            "grid_area": null,
            "grid_auto_columns": null,
            "grid_auto_flow": null,
            "grid_auto_rows": null,
            "grid_column": null,
            "grid_gap": null,
            "grid_row": null,
            "grid_template_areas": null,
            "grid_template_columns": null,
            "grid_template_rows": null,
            "height": null,
            "justify_content": null,
            "justify_items": null,
            "left": null,
            "margin": null,
            "max_height": null,
            "max_width": null,
            "min_height": null,
            "min_width": null,
            "object_fit": null,
            "object_position": null,
            "order": null,
            "overflow": null,
            "overflow_x": null,
            "overflow_y": null,
            "padding": null,
            "right": null,
            "top": null,
            "visibility": null,
            "width": null
          }
        },
        "c57758de146644b09c544540f6928327": {
          "model_module": "@jupyter-widgets/controls",
          "model_module_version": "1.5.0",
          "model_name": "ProgressStyleModel",
          "state": {
            "_model_module": "@jupyter-widgets/controls",
            "_model_module_version": "1.5.0",
            "_model_name": "ProgressStyleModel",
            "_view_count": null,
            "_view_module": "@jupyter-widgets/base",
            "_view_module_version": "1.2.0",
            "_view_name": "StyleView",
            "bar_color": null,
            "description_width": ""
          }
        },
        "c8649721543540e7bb11d99862a5adf7": {
          "model_module": "@jupyter-widgets/controls",
          "model_module_version": "1.5.0",
          "model_name": "ProgressStyleModel",
          "state": {
            "_model_module": "@jupyter-widgets/controls",
            "_model_module_version": "1.5.0",
            "_model_name": "ProgressStyleModel",
            "_view_count": null,
            "_view_module": "@jupyter-widgets/base",
            "_view_module_version": "1.2.0",
            "_view_name": "StyleView",
            "bar_color": null,
            "description_width": ""
          }
        },
        "d82fc26d18e7410391fddf8f1940d289": {
          "model_module": "@jupyter-widgets/base",
          "model_module_version": "1.2.0",
          "model_name": "LayoutModel",
          "state": {
            "_model_module": "@jupyter-widgets/base",
            "_model_module_version": "1.2.0",
            "_model_name": "LayoutModel",
            "_view_count": null,
            "_view_module": "@jupyter-widgets/base",
            "_view_module_version": "1.2.0",
            "_view_name": "LayoutView",
            "align_content": null,
            "align_items": null,
            "align_self": null,
            "border": null,
            "bottom": null,
            "display": null,
            "flex": null,
            "flex_flow": null,
            "grid_area": null,
            "grid_auto_columns": null,
            "grid_auto_flow": null,
            "grid_auto_rows": null,
            "grid_column": null,
            "grid_gap": null,
            "grid_row": null,
            "grid_template_areas": null,
            "grid_template_columns": null,
            "grid_template_rows": null,
            "height": null,
            "justify_content": null,
            "justify_items": null,
            "left": null,
            "margin": null,
            "max_height": null,
            "max_width": null,
            "min_height": null,
            "min_width": null,
            "object_fit": null,
            "object_position": null,
            "order": null,
            "overflow": null,
            "overflow_x": null,
            "overflow_y": null,
            "padding": null,
            "right": null,
            "top": null,
            "visibility": null,
            "width": null
          }
        },
        "d97e7d9fc05f4927af96f7e6256290e4": {
          "model_module": "@jupyter-widgets/base",
          "model_module_version": "1.2.0",
          "model_name": "LayoutModel",
          "state": {
            "_model_module": "@jupyter-widgets/base",
            "_model_module_version": "1.2.0",
            "_model_name": "LayoutModel",
            "_view_count": null,
            "_view_module": "@jupyter-widgets/base",
            "_view_module_version": "1.2.0",
            "_view_name": "LayoutView",
            "align_content": null,
            "align_items": null,
            "align_self": null,
            "border": null,
            "bottom": null,
            "display": null,
            "flex": null,
            "flex_flow": null,
            "grid_area": null,
            "grid_auto_columns": null,
            "grid_auto_flow": null,
            "grid_auto_rows": null,
            "grid_column": null,
            "grid_gap": null,
            "grid_row": null,
            "grid_template_areas": null,
            "grid_template_columns": null,
            "grid_template_rows": null,
            "height": null,
            "justify_content": null,
            "justify_items": null,
            "left": null,
            "margin": null,
            "max_height": null,
            "max_width": null,
            "min_height": null,
            "min_width": null,
            "object_fit": null,
            "object_position": null,
            "order": null,
            "overflow": null,
            "overflow_x": null,
            "overflow_y": null,
            "padding": null,
            "right": null,
            "top": null,
            "visibility": null,
            "width": null
          }
        },
        "d9c83c3b024c41ebb2434e6f6117262b": {
          "model_module": "@jupyter-widgets/controls",
          "model_module_version": "1.5.0",
          "model_name": "HTMLModel",
          "state": {
            "_dom_classes": [],
            "_model_module": "@jupyter-widgets/controls",
            "_model_module_version": "1.5.0",
            "_model_name": "HTMLModel",
            "_view_count": null,
            "_view_module": "@jupyter-widgets/controls",
            "_view_module_version": "1.5.0",
            "_view_name": "HTMLView",
            "description": "",
            "description_tooltip": null,
            "layout": "IPY_MODEL_3879901e3b844dd186673d4285ff9cdf",
            "placeholder": "​",
            "style": "IPY_MODEL_f041225ccea448caaaa2c30b6e3b35c2",
            "value": "Downloading (…)solve/main/vocab.txt: 100%"
          }
        },
        "e1bacf352f804172b412a4473f48dc13": {
          "model_module": "@jupyter-widgets/controls",
          "model_module_version": "1.5.0",
          "model_name": "DescriptionStyleModel",
          "state": {
            "_model_module": "@jupyter-widgets/controls",
            "_model_module_version": "1.5.0",
            "_model_name": "DescriptionStyleModel",
            "_view_count": null,
            "_view_module": "@jupyter-widgets/base",
            "_view_module_version": "1.2.0",
            "_view_name": "StyleView",
            "description_width": ""
          }
        },
        "e6aadcf21b8b408e9e49597c8858cd11": {
          "model_module": "@jupyter-widgets/controls",
          "model_module_version": "1.5.0",
          "model_name": "HBoxModel",
          "state": {
            "_dom_classes": [],
            "_model_module": "@jupyter-widgets/controls",
            "_model_module_version": "1.5.0",
            "_model_name": "HBoxModel",
            "_view_count": null,
            "_view_module": "@jupyter-widgets/controls",
            "_view_module_version": "1.5.0",
            "_view_name": "HBoxView",
            "box_style": "",
            "children": [
              "IPY_MODEL_59fab14c1b314df2b76907c5cb063a86",
              "IPY_MODEL_9db7c173520843b5bdf2c3f26421044d",
              "IPY_MODEL_0b15a8823bc042d9872695007db91e64"
            ],
            "layout": "IPY_MODEL_2389ebd98220460dbdbfe596d0a1a577"
          }
        },
        "ed21a78ceef344cda435814b3d763077": {
          "model_module": "@jupyter-widgets/base",
          "model_module_version": "1.2.0",
          "model_name": "LayoutModel",
          "state": {
            "_model_module": "@jupyter-widgets/base",
            "_model_module_version": "1.2.0",
            "_model_name": "LayoutModel",
            "_view_count": null,
            "_view_module": "@jupyter-widgets/base",
            "_view_module_version": "1.2.0",
            "_view_name": "LayoutView",
            "align_content": null,
            "align_items": null,
            "align_self": null,
            "border": null,
            "bottom": null,
            "display": null,
            "flex": null,
            "flex_flow": null,
            "grid_area": null,
            "grid_auto_columns": null,
            "grid_auto_flow": null,
            "grid_auto_rows": null,
            "grid_column": null,
            "grid_gap": null,
            "grid_row": null,
            "grid_template_areas": null,
            "grid_template_columns": null,
            "grid_template_rows": null,
            "height": null,
            "justify_content": null,
            "justify_items": null,
            "left": null,
            "margin": null,
            "max_height": null,
            "max_width": null,
            "min_height": null,
            "min_width": null,
            "object_fit": null,
            "object_position": null,
            "order": null,
            "overflow": null,
            "overflow_x": null,
            "overflow_y": null,
            "padding": null,
            "right": null,
            "top": null,
            "visibility": null,
            "width": null
          }
        },
        "ee29a3556ff041c4b01121f2e6f0f2a5": {
          "model_module": "@jupyter-widgets/controls",
          "model_module_version": "1.5.0",
          "model_name": "HBoxModel",
          "state": {
            "_dom_classes": [],
            "_model_module": "@jupyter-widgets/controls",
            "_model_module_version": "1.5.0",
            "_model_name": "HBoxModel",
            "_view_count": null,
            "_view_module": "@jupyter-widgets/controls",
            "_view_module_version": "1.5.0",
            "_view_name": "HBoxView",
            "box_style": "",
            "children": [
              "IPY_MODEL_99105d7ced114ceb8f186f497f80a129",
              "IPY_MODEL_303f2bfb74644df9b65394204d1d5f31",
              "IPY_MODEL_3cb46ae876a94855aa2cd0c0b10ac4f8"
            ],
            "layout": "IPY_MODEL_f98db08317934a09b1c19723b7f4064f"
          }
        },
        "f041225ccea448caaaa2c30b6e3b35c2": {
          "model_module": "@jupyter-widgets/controls",
          "model_module_version": "1.5.0",
          "model_name": "DescriptionStyleModel",
          "state": {
            "_model_module": "@jupyter-widgets/controls",
            "_model_module_version": "1.5.0",
            "_model_name": "DescriptionStyleModel",
            "_view_count": null,
            "_view_module": "@jupyter-widgets/base",
            "_view_module_version": "1.2.0",
            "_view_name": "StyleView",
            "description_width": ""
          }
        },
        "f31fc1d46f5549268311596aa066372c": {
          "model_module": "@jupyter-widgets/controls",
          "model_module_version": "1.5.0",
          "model_name": "DescriptionStyleModel",
          "state": {
            "_model_module": "@jupyter-widgets/controls",
            "_model_module_version": "1.5.0",
            "_model_name": "DescriptionStyleModel",
            "_view_count": null,
            "_view_module": "@jupyter-widgets/base",
            "_view_module_version": "1.2.0",
            "_view_name": "StyleView",
            "description_width": ""
          }
        },
        "f98db08317934a09b1c19723b7f4064f": {
          "model_module": "@jupyter-widgets/base",
          "model_module_version": "1.2.0",
          "model_name": "LayoutModel",
          "state": {
            "_model_module": "@jupyter-widgets/base",
            "_model_module_version": "1.2.0",
            "_model_name": "LayoutModel",
            "_view_count": null,
            "_view_module": "@jupyter-widgets/base",
            "_view_module_version": "1.2.0",
            "_view_name": "LayoutView",
            "align_content": null,
            "align_items": null,
            "align_self": null,
            "border": null,
            "bottom": null,
            "display": null,
            "flex": null,
            "flex_flow": null,
            "grid_area": null,
            "grid_auto_columns": null,
            "grid_auto_flow": null,
            "grid_auto_rows": null,
            "grid_column": null,
            "grid_gap": null,
            "grid_row": null,
            "grid_template_areas": null,
            "grid_template_columns": null,
            "grid_template_rows": null,
            "height": null,
            "justify_content": null,
            "justify_items": null,
            "left": null,
            "margin": null,
            "max_height": null,
            "max_width": null,
            "min_height": null,
            "min_width": null,
            "object_fit": null,
            "object_position": null,
            "order": null,
            "overflow": null,
            "overflow_x": null,
            "overflow_y": null,
            "padding": null,
            "right": null,
            "top": null,
            "visibility": null,
            "width": null
          }
        }
      }
    }
  },
  "nbformat": 4,
  "nbformat_minor": 0
}
